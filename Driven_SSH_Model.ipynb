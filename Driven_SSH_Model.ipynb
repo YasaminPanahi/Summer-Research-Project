{
  "nbformat": 4,
  "nbformat_minor": 0,
  "metadata": {
    "colab": {
      "name": "Driven SSH Model.ipynb",
      "provenance": [],
      "collapsed_sections": []
    },
    "kernelspec": {
      "name": "python3",
      "display_name": "Python 3"
    },
    "language_info": {
      "name": "python"
    }
  },
  "cells": [
    {
      "cell_type": "code",
      "execution_count": null,
      "metadata": {
        "colab": {
          "base_uri": "https://localhost:8080/"
        },
        "id": "QuE3Uo4PM8-0",
        "outputId": "10c1f617-9f81-4533-9a26-e0efe0a3884d"
      },
      "outputs": [
        {
          "output_type": "stream",
          "name": "stdout",
          "text": [
            "Looking in indexes: https://pypi.org/simple, https://us-python.pkg.dev/colab-wheels/public/simple/\n",
            "Collecting qutip\n",
            "  Downloading qutip-4.7.0-cp37-cp37m-manylinux_2_5_x86_64.manylinux1_x86_64.manylinux_2_12_x86_64.manylinux2010_x86_64.whl (14.7 MB)\n",
            "\u001b[K     |████████████████████████████████| 14.7 MB 3.1 MB/s \n",
            "\u001b[?25hRequirement already satisfied: packaging in /usr/local/lib/python3.7/dist-packages (from qutip) (21.3)\n",
            "Requirement already satisfied: numpy>=1.16.6 in /usr/local/lib/python3.7/dist-packages (from qutip) (1.21.6)\n",
            "Requirement already satisfied: scipy>=1.0 in /usr/local/lib/python3.7/dist-packages (from qutip) (1.4.1)\n",
            "Requirement already satisfied: pyparsing!=3.0.5,>=2.0.2 in /usr/local/lib/python3.7/dist-packages (from packaging->qutip) (3.0.9)\n",
            "Installing collected packages: qutip\n",
            "Successfully installed qutip-4.7.0\n"
          ]
        }
      ],
      "source": [
        "# install QuTip Library (Quantum Toolbox in Python), Documentation: https://qutip.org/docs/latest/\n",
        "pip install qutip"
      ]
    },
    {
      "cell_type": "code",
      "source": [
        "import qutip as qt\n",
        "import numpy as np"
      ],
      "metadata": {
        "id": "4m0-S2mLM_G0"
      },
      "execution_count": null,
      "outputs": []
    },
    {
      "cell_type": "code",
      "source": [
        "from qutip import *\n",
        "from numpy import *"
      ],
      "metadata": {
        "id": "BHoyBtrKUvp1"
      },
      "execution_count": null,
      "outputs": []
    },
    {
      "cell_type": "code",
      "source": [
        "v = 0.5 #constant intracell hopping (unmodulated hopping amplitude)\n",
        "\n",
        "omega = 1.0 * 2*pi #Here I fixed Omega \n",
        "\n",
        "H0 = v * sigmax() #time independent part of Hamiltonian\n",
        "n = 10 #number of momentum values\n",
        "k = np.linspace(- pi, pi, n) #crystal momementum\n",
        "T = 2*np.pi / omega #periodicity"
      ],
      "metadata": {
        "id": "DVXunv9d5yyb"
      },
      "execution_count": null,
      "outputs": []
    },
    {
      "cell_type": "code",
      "source": [
        "H1 = dict() #time dependent part of Hamiltonian for different k's\n",
        "quasi_energies = np.zeros((n, 2))\n",
        "for i in range(n):\n",
        "  k_i = k[i]\n",
        "  H1[i] = sin(k_i)*sigmay() + cos(k_i)*sigmax()\n",
        "  args = {'w': omega}\n",
        "  H = [H0, [H1[i], 'sin(w * t)']]  # I chose the hopping modulation to be a sin function of time \n",
        "  f_modes_0, f_energies = floquet_modes(H, T, args) # from QuTip Library for finding quasi energies and floquet modes\n",
        "  quasi_energies[i,:] = f_energies "
      ],
      "metadata": {
        "id": "NhY7GT8D6qBa"
      },
      "execution_count": null,
      "outputs": []
    },
    {
      "cell_type": "code",
      "source": [
        "import matplotlib.pyplot as plt\n",
        "plt.figure(figsize=(8, 6))\n",
        "plt.plot(k, quasi_energies[:,0], 'b', k, quasi_energies[:,1], 'r') \n",
        "plt.xlabel(r'$k$',fontsize = 15) \n",
        "plt.ylabel(r'Quasienergy',fontsize = 15) \n",
        "plt.title(r'Floquet quasienergies',fontsize = 20) \n",
        "plt.show() "
      ],
      "metadata": {
        "colab": {
          "base_uri": "https://localhost:8080/",
          "height": 415
        },
        "id": "sqGqqt_IQ2NZ",
        "outputId": "443c43d8-c5ff-4578-c662-4322996a8951"
      },
      "execution_count": null,
      "outputs": [
        {
          "output_type": "display_data",
          "data": {
            "text/plain": [
              "<Figure size 576x432 with 1 Axes>"
            ],
            "image/png": "[encoded data removed]"
          },
          "metadata": {
            "needs_background": "light"
          }
        }
      ]
    },
    {
      "cell_type": "code",
      "source": [
        "# Quasienergy values for each mode (s = 1 or s = -1)"
      ],
      "metadata": {
        "id": "bn_5-zC2WBrF"
      },
      "execution_count": null,
      "outputs": []
    },
    {
      "cell_type": "code",
      "source": [
        "quasi_energies[:,1]"
      ],
      "metadata": {
        "colab": {
          "base_uri": "https://localhost:8080/"
        },
        "id": "PCwl4N1aV5OJ",
        "outputId": "2044eff5-758b-4f37-cc21-99868e9428fc"
      },
      "execution_count": null,
      "outputs": [
        {
          "output_type": "execute_result",
          "data": {
            "text/plain": [
              "array([ 0.49999991,  0.49470699,  0.48749168,  0.49035279,  0.49850781,\n",
              "       -0.49850781, -0.49035279, -0.48749168, -0.49470699,  0.49999991])"
            ]
          },
          "metadata": {},
          "execution_count": 42
        }
      ]
    },
    {
      "cell_type": "code",
      "source": [
        "quasi_energies[:,0]"
      ],
      "metadata": {
        "colab": {
          "base_uri": "https://localhost:8080/"
        },
        "id": "bpbmLLTJVXtP",
        "outputId": "a7f9f622-98ab-41ab-a35a-aee01541d48e"
      },
      "execution_count": null,
      "outputs": [
        {
          "output_type": "execute_result",
          "data": {
            "text/plain": [
              "array([-0.49999991, -0.49470699, -0.48749168, -0.49035279, -0.49850781,\n",
              "        0.49850781,  0.49035279,  0.48749168,  0.49470699, -0.49999991])"
            ]
          },
          "metadata": {},
          "execution_count": 43
        }
      ]
    }
  ]
}